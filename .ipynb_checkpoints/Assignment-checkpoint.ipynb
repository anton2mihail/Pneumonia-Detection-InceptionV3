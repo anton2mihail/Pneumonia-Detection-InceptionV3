{
 "cells": [
  {
   "cell_type": "code",
   "execution_count": null,
   "metadata": {},
   "outputs": [],
   "source": [
    "import cv2\n",
    "import numpy as np\n",
    "from random import shuffle\n",
    "import random\n",
    "import tqdm\n",
    "import os\n",
    "import tensorflow as tf\n",
    "import gc\n",
    "import matplotlib.pyplot as plt\n",
    "%matplotlib inline\n",
    "\n",
    "IMAGE_SIZE = [299, 299]\n",
    "EPOCHS = 10\n",
    "\n",
    "VALIDATION_SPLIT = 0.20\n",
    "CLASSES = ['normal', 'pneumonia'] # do not change, maps to the labels in the data (folder names)"
   ]
  },
  {
   "cell_type": "code",
   "execution_count": null,
   "metadata": {},
   "outputs": [],
   "source": [
    "train_dir = 'train_data'\n",
    "test_dir = 'test_data'\n",
    "\n",
    "train_normal = ['train_data/{}'.format(i) for i in os.listdir(train_dir) if 'NORMAL' in i] #get normal\n",
    "train_pneumonia = ['train_data/{}'.format(i) for i in os.listdir(train_dir) if 'PNEUMONIA' in i] #get diseased\n",
    "\n",
    "test_imgs = ['test_data/{}'.format(i) for i in os.listdir(test_dir)] #get test imgs\n",
    "\n",
    "train_imgs = train_normal + train_pneumonia\n",
    "random.shuffle(train_imgs)\n",
    "\n",
    "del train_normal\n",
    "del train_pneumonia\n",
    "gc.collect()"
   ]
  },
  {
   "cell_type": "code",
   "execution_count": null,
   "metadata": {},
   "outputs": [],
   "source": [
    "#show some imgs\n",
    "import matplotlib.image as mpimg\n",
    "for ima in train_imgs[0:3]:\n",
    "    img=mpimg.imread(ima)\n",
    "    implot=plt.imshow(img)\n",
    "    plt.show()"
   ]
  },
  {
   "cell_type": "code",
   "execution_count": null,
   "metadata": {},
   "outputs": [],
   "source": [
    "#declare img dims\n",
    "nrows = 299\n",
    "ncols = 299\n",
    "channels = 3\n",
    "\n",
    "def read_and_process_image(list_of_images):\n",
    "    \"\"\"\n",
    "    Returns two arrays:\n",
    "        X is an array of resized imgs\n",
    "        y is an array of labels\n",
    "    \"\"\"\n",
    "    X = []\n",
    "    y = []\n",
    "    for image in list_of_images:\n",
    "        X.append(cv2.resize(cv2.imread(image, cv2.IMREAD_COLOR), (nrows, ncols), interpolation=cv2.INTER_CUBIC))\n",
    "        if 'NORMAL' in image:\n",
    "            y.append(0)\n",
    "        elif 'PNEUMONIA' in image:\n",
    "            y.append(1)\n",
    "            \n",
    "    return X, y"
   ]
  },
  {
   "cell_type": "code",
   "execution_count": null,
   "metadata": {},
   "outputs": [],
   "source": [
    "X, y = read_and_process_image(train_imgs)"
   ]
  },
  {
   "cell_type": "code",
   "execution_count": null,
   "metadata": {},
   "outputs": [],
   "source": [
    "#preview X\n",
    "X[0]"
   ]
  },
  {
   "cell_type": "code",
   "execution_count": null,
   "metadata": {},
   "outputs": [],
   "source": [
    "#preview Y\n",
    "y[0:10]"
   ]
  },
  {
   "cell_type": "code",
   "execution_count": null,
   "metadata": {},
   "outputs": [],
   "source": [
    "import seaborn as sns\n",
    "del train_imgs\n",
    "gc.collect()\n",
    "\n",
    "#Convert lists\n",
    "X = np.array(X)\n",
    "y = np.array(y)\n",
    "\n",
    "sns.countplot(y)\n",
    "plt.label('Labels for Normal and Pneumonia')\n"
   ]
  },
  {
   "cell_type": "code",
   "execution_count": null,
   "metadata": {},
   "outputs": [],
   "source": [
    "print(\"Shape of train images is: \", X.shape)\n",
    "print(\"Shape of train labels is: \", y.shape)"
   ]
  },
  {
   "cell_type": "code",
   "execution_count": null,
   "metadata": {},
   "outputs": [],
   "source": [
    "from sklearn.model_selection import train_test_split\n",
    "X_train, X_val, y_train, y_val = train_test_split(X,y, test_size=0.20, random_state=2)\n",
    "\n",
    "print(\"Shape of train images is: \", X_train.shape)\n",
    "print(\"Shape of test images is: \", X_val.shape)\n",
    "\n",
    "print(\"Shape of labels is: \", y_train.shape)\n",
    "print(\"Shape of labels is: \", y_val.shape)"
   ]
  },
  {
   "cell_type": "code",
   "execution_count": null,
   "metadata": {},
   "outputs": [],
   "source": [
    "del X\n",
    "del y\n",
    "gc.collect()\n",
    "\n",
    "ntrain = len(X_train)\n",
    "nval= len(X_val)\n",
    "\n",
    "batch_size = 64"
   ]
  },
  {
   "cell_type": "code",
   "execution_count": null,
   "metadata": {},
   "outputs": [],
   "source": [
    "from keras.models import  Sequential\n",
    "from keras.layers import  *\n",
    "from keras.optimizers import  *\n",
    "from keras.applications.inception_v3 import InceptionV3\n",
    "from keras.preprocessing.image import ImageDataGenerator\n",
    "from keras.preprocessing.image import img_to_array, load_img"
   ]
  },
  {
   "cell_type": "code",
   "execution_count": null,
   "metadata": {},
   "outputs": [],
   "source": [
    "pretrained_model = tf.keras.applications.InceptionV3(weights='imagenet', include_top=False, input_shape=(299, 299, 3))\n",
    "pretrained_model.trainable = False\n",
    "\n",
    "model = tf.keras.Sequential([\n",
    "    pretrained_model,\n",
    "    tf.keras.layers.Flatten(),\n",
    "    tf.keras.layers.Dense(2, activation='softmax')\n",
    "])\n",
    "\n",
    "model.compile(\n",
    "    optimizer='adam',\n",
    "    loss = 'sparse_categorical_crossentropy',\n",
    "    metrics=['accuracy']\n",
    ")\n",
    "\n",
    "model.summary()"
   ]
  },
  {
   "cell_type": "code",
   "execution_count": null,
   "metadata": {},
   "outputs": [],
   "source": [
    "train_datagen = ImageDataGenerator(rescale=1./299)\n",
    "train_generator = train_datagen.flow(X_train, y_train, batch_size=batch_size)\n",
    "\n",
    "test_datagen = ImageDataGenerator(rescale=1./299)\n",
    "test_generator = test_datagen.flow(X_val, y_val, batch_size=batch_size)"
   ]
  },
  {
   "cell_type": "code",
   "execution_count": null,
   "metadata": {},
   "outputs": [],
   "source": [
    "history = model.fit_generator(train_generator, steps_per_epoch=ntrain // batch_size, epochs=EPOCHS, validation_data=test_generator,\n",
    "                             validation_steps=nval // batch_size)"
   ]
  },
  {
   "cell_type": "code",
   "execution_count": null,
   "metadata": {},
   "outputs": [],
   "source": [
    "model.save_weights('model_wieghts.h5')\n",
    "model.save('model_keras.h5')"
   ]
  },
  {
   "cell_type": "code",
   "execution_count": null,
   "metadata": {},
   "outputs": [],
   "source": [
    "acc = history.history['acc']\n",
    "val_acc = history.history['val_acc']\n",
    "loss = history.history['loss']\n",
    "val_loss = history.history['val_loss']\n",
    "\n",
    "epochs = range(1, len(acc)+ 1)\n",
    "\n",
    "#Train and validation accuracy\n",
    "plt.plot(epochs, acc, 'b', label='Training Accuracy')\n",
    "plt.plot(epochs, val_acc, 'r', label='Validation Accuracy')\n",
    "plt.title('Training and Validation Accuracy')\n",
    "plt.legend()\n",
    "\n",
    "plt.figure()\n",
    "\n",
    "plt.plot(epochs, loss, 'b', label='Training loss')\n",
    "plt.plot(epochs, val_loss, 'r', label='Validation loss')\n",
    "plt.title('Training and Validation loss')\n",
    "plt.legend()\n",
    "\n",
    "plt.show()"
   ]
  },
  {
   "cell_type": "code",
   "execution_count": null,
   "metadata": {},
   "outputs": [],
   "source": [
    "# FINALLY LETS PREDICT\n",
    "X_test, y_test = read_and_process_image(test_imgs[0:10])\n",
    "x = np.array(X_test)\n",
    "test_datagen = ImageDataGenerator(rescale=1./299)"
   ]
  },
  {
   "cell_type": "code",
   "execution_count": null,
   "metadata": {},
   "outputs": [],
   "source": [
    "i=0\n",
    "text_labels = []\n",
    "plt.figure(figsize=(30,20))\n",
    "for batch in test_datagen.flow(x, batch_size=1):\n",
    "    pred = model.predict(batch)\n",
    "    print(pred[0])\n",
    "    if pred.any() > 0.5:\n",
    "        text_labels.append('PNEUMONIA')\n",
    "    else:\n",
    "        text_labels.append('NOTHING')\n",
    "    plt.subplots(1,1 , 'col')\n",
    "    plt.title('This patient has'+ text_labels[i])\n",
    "    imgplot = plt.imshow(batch[0])\n",
    "    i += 1\n",
    "    if i % 10 == 0:\n",
    "        break\n",
    "plt.show()"
   ]
  },
  {
   "cell_type": "code",
   "execution_count": null,
   "metadata": {},
   "outputs": [],
   "source": []
  }
 ],
 "metadata": {
  "kernelspec": {
   "display_name": "Python 3",
   "language": "python",
   "name": "python3"
  },
  "language_info": {
   "codemirror_mode": {
    "name": "ipython",
    "version": 3
   },
   "file_extension": ".py",
   "mimetype": "text/x-python",
   "name": "python",
   "nbconvert_exporter": "python",
   "pygments_lexer": "ipython3",
   "version": "3.6.8"
  }
 },
 "nbformat": 4,
 "nbformat_minor": 4
}
